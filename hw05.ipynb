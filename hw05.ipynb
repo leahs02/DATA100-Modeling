{
 "cells": [
  {
   "cell_type": "code",
   "execution_count": 1,
   "metadata": {
    "deletable": false,
    "editable": false
   },
   "outputs": [],
   "source": [
    "# Initialize Otter\n",
    "import otter\n",
    "grader = otter.Notebook(\"hw05.ipynb\")"
   ]
  },
  {
   "cell_type": "markdown",
   "metadata": {},
   "source": [
    "# Homework 5A: Sampling\n",
    "## Due Date: Thursday, October 5th, 11:59 PM\n",
    "\n",
    "You must submit this assignment to Gradescope by the on-time deadline, Thursday, October 5th, 11:59 PM. Please read the syllabus for the grace period policy. No late submissions beyond the grace period will be accepted. While course staff is happy to help you if you encounter difficulties with submission, we may not be able to respond to last-minute requests for assistance (TAs need to sleep, after all!). **We strongly encourage you to plan to submit your work to Gradescope several hours before the stated deadline.** This way, you will have ample time to reach out to staff for submission support. \n",
    "\n",
    "This is part of a two-part assignment. After completing this part (\"Homework 5A\"), please read all instructions carefully to combine manually graded questions from Homework 5A with Homework 5B, and submit your work to both the coding and written portals of Gradescope.\n",
    "\n",
    "## Collaboration Policy\n",
    "\n",
    "Data science is a collaborative activity. While you may talk with others about the homework, we ask that you **write your solutions individually**. If you do discuss the assignments with others please **include their names** at the top of your notebook."
   ]
  },
  {
   "cell_type": "markdown",
   "metadata": {},
   "source": [
    "**Collaborators**: *list collaborators here*"
   ]
  },
  {
   "cell_type": "markdown",
   "metadata": {},
   "source": [
    "## This Assignment\n",
    "\n",
    "The purpose of this assignment is for you to understand the process of sampling: including convenience samples, random samples; as well as sampling biases. We will also practice drawing samples from a categorical distribution using `NumPy`.\n",
    "\n",
    "For the purposes of clarity, we will refer to all variations of this class (Data 100/200/200A/200S) as Data 100 in this homework. \n",
    "\n",
    "## Score Breakdown\n",
    "Question | Manual? | Points\n",
    "--- | --- | --\n",
    "1ai | No | 1\n",
    "1aii | No | 1\n",
    "1aiii | No | 1\n",
    "1bi | No | 1\n",
    "1bii | No | 1\n",
    "1biii | No | 1\n",
    "1biv | No | 1\n",
    "2a | No | 2\n",
    "2b | Yes | 2\n",
    "2c | Yes | 3\n",
    "2d | Yes | 2\n",
    "Total | 3 | 16\n"
   ]
  },
  {
   "cell_type": "markdown",
   "metadata": {},
   "source": [
    "### Initialize your environment"
   ]
  },
  {
   "cell_type": "code",
   "execution_count": 2,
   "metadata": {},
   "outputs": [],
   "source": [
    "import numpy as np\n",
    "np.random.seed(200)\n",
    "import matplotlib\n",
    "import matplotlib.pyplot as plt\n",
    "import seaborn as sns\n",
    "plt.style.use('fivethirtyeight')"
   ]
  },
  {
   "cell_type": "markdown",
   "metadata": {},
   "source": [
    "<br/><br/>\n",
    "<hr style=\"border: 5px solid #003262;\" />\n",
    "<hr style=\"border: 1px solid #fdb515;\" />\n",
    "\n",
    "## Data 100 Cutest Pets Contest\n",
    "\n",
    "Welcome to the Data 100 Cutest Pets Contest, Fall 2023 edition! Course staff nominate their pets to participate in this contest. Students will vote on the cutest one among the nominations in the final exam.\n",
    "\n",
    "The nominees are:\n",
    "\n",
    "<img src='images/appa.jpg' width=\"180px\" />  <img src='images/pishi.png' width=\"180px\" /> <img src='images/mimi.png' width=\"180px\" /> \n",
    "\n",
    "(From left to right) **Appa** (Matthew's cats), **Pishi** (Professor Norouzi's cat), and **Mimi** (Shiny's dog).\n",
    "\n",
    "**Earlier in the semester, before the actual contest**, however, course staff would like to predict the results by surveying students in the class. This process is similar to polling that occurs before a political election.\n",
    "\n",
    "In this section, you are going to explore different sampling methods.\n",
    "<br/><br/>\n",
    "\n",
    "<hr style=\"border: 1px solid #fdb515;\" />\n",
    "\n",
    "## Question 1"
   ]
  },
  {
   "cell_type": "markdown",
   "metadata": {
    "deletable": false,
    "editable": false,
    "tags": []
   },
   "source": [
    "<br>\n",
    "\n",
    "---\n",
    "\n",
    "### Question 1a\n",
    "\n",
    "Since her dog, Mimi, is nominated, Shiny would like to understand the class opinion before the contest. This coming week, she decided to survey all students enrolled in Data 100 this Fall semester (Fall 2023) by sending out an Ed announcement via email that asked students to choose the cutest from the three pets. You may assume no other students/users receive the survey. Shiny closes the survey 12 hours after sending it out.\n",
    "\n",
    "You can assume that all, and only, enrolled students are on Ed."
   ]
  },
  {
   "cell_type": "markdown",
   "metadata": {
    "deletable": false,
    "editable": false
   },
   "source": [
    "**Part 1**. In Shiny's survey, which of the following is the population of interest? Assign your answer choice to `q1ai` (e.g., `'A'`, `'B'`, etc.).\n",
    "\n",
    "A. All UC Berkeley students<br/>\n",
    "B. All students enrolled in Data 100 across all semesters (Fall 2023 and previous)</br>\n",
    "C. All students enrolled in Data 100 for this semester (Fall 2023)<br/>\n",
    "D. All students who fill out Shiny's survey"
   ]
  },
  {
   "cell_type": "code",
   "execution_count": 3,
   "metadata": {
    "tags": []
   },
   "outputs": [],
   "source": [
    "q1ai = 'C'"
   ]
  },
  {
   "cell_type": "code",
   "execution_count": 4,
   "metadata": {
    "deletable": false,
    "editable": false
   },
   "outputs": [
    {
     "data": {
      "text/html": [
       "<p><strong><pre style='display: inline;'>q1ai</pre></strong> passed! 💯</p>"
      ],
      "text/plain": [
       "q1ai results: All test cases passed!"
      ]
     },
     "execution_count": 4,
     "metadata": {},
     "output_type": "execute_result"
    }
   ],
   "source": [
    "grader.check(\"q1ai\")"
   ]
  },
  {
   "cell_type": "markdown",
   "metadata": {
    "deletable": false,
    "editable": false
   },
   "source": [
    "**Part 2**. In Shiny's survey, which of the following is the sampling frame? Assign your answer choice to `q1aii` (e.g., `'A'`, `'B'`, etc.).\n",
    "\n",
    "A. UC Berkeley students<br/>\n",
    "B. All students enrolled in Data 100 across all semesters (Fall 2023 and previous)</br>\n",
    "C. All students enrolled in Data 100 for this semester (Fall 2023)<br/>\n",
    "D. All students who fill out Shiny's survey"
   ]
  },
  {
   "cell_type": "code",
   "execution_count": 5,
   "metadata": {
    "tags": []
   },
   "outputs": [],
   "source": [
    "q1aii = 'C'"
   ]
  },
  {
   "cell_type": "code",
   "execution_count": 6,
   "metadata": {
    "deletable": false,
    "editable": false
   },
   "outputs": [
    {
     "data": {
      "text/html": [
       "<p><strong><pre style='display: inline;'>q1aii</pre></strong> passed! 🌈</p>"
      ],
      "text/plain": [
       "q1aii results: All test cases passed!"
      ]
     },
     "execution_count": 6,
     "metadata": {},
     "output_type": "execute_result"
    }
   ],
   "source": [
    "grader.check(\"q1aii\")"
   ]
  },
  {
   "cell_type": "markdown",
   "metadata": {
    "deletable": false,
    "editable": false
   },
   "source": [
    "\n",
    "\n",
    "**Part 3**. Which of the following is the sample? Assign your answer choice to `q1aiii` (e.g., `'A'`, `'B'`, etc.).\n",
    "\n",
    "A. UC Berkeley students<br/>\n",
    "B. All students enrolled in Data 100 across all semesters (Fall 2023 and previous)</br>\n",
    "C. All students enrolled in Data 100 for this semester (Fall 2023)<br/>\n",
    "D. All students who fill out Shiny's survey"
   ]
  },
  {
   "cell_type": "code",
   "execution_count": 7,
   "metadata": {
    "tags": []
   },
   "outputs": [],
   "source": [
    "q1aiii = 'D'"
   ]
  },
  {
   "cell_type": "code",
   "execution_count": 8,
   "metadata": {
    "deletable": false,
    "editable": false
   },
   "outputs": [
    {
     "data": {
      "text/html": [
       "<p><strong><pre style='display: inline;'>q1aiii</pre></strong> passed! 🎉</p>"
      ],
      "text/plain": [
       "q1aiii results: All test cases passed!"
      ]
     },
     "execution_count": 8,
     "metadata": {},
     "output_type": "execute_result"
    }
   ],
   "source": [
    "grader.check(\"q1aiii\")"
   ]
  },
  {
   "cell_type": "markdown",
   "metadata": {
    "deletable": false,
    "editable": false,
    "tags": []
   },
   "source": [
    "<br><br>\n",
    "\n",
    "---\n",
    "\n",
    "### Question 1b\n",
    "\n",
    "In practice, we cannot get a 100\\% survey response rate, often because our population is too large, or because there is a time limit. In this case, very few students answered Shiny's survey before she closed it.\n",
    "\n",
    "To get more data to predict the answer to the original question (\"Which pet will win the Data 100 Cutest Pet Contest?\"), Shiny decides on a different strategy: **She conducts the pre-contest survey in person in her discussion section that same week**. She then asks every student who attends the discussion that week for their opinion on the cutest of the three pets, by presenting the following slide: \n",
    "\n",
    "<img src='images/survey.png' width=\"600px\" />\n",
    "\n",
    "\n",
    "\n",
    "**Part I:** In this sampling scheme, which of the following is the population of interest? Assign your answer choice to `q1bi` (e.g., `'A'`, `'B'`, etc.).\n",
    "\n",
    "A. UC Berkeley students<br/>\n",
    "B. All students enrolled in Data 100 across all semesters (Fall 2023 and previous)</br>\n",
    "C. All students enrolled in Data 100 for this semester (Fall 2023)<br/>\n",
    "D. All students enrolled in Shiny's discussion section<br/>\n",
    "E. All students who fill out Shiny's pre-contest survey"
   ]
  },
  {
   "cell_type": "code",
   "execution_count": 9,
   "metadata": {
    "tags": []
   },
   "outputs": [],
   "source": [
    "q1bi = 'C'"
   ]
  },
  {
   "cell_type": "code",
   "execution_count": 10,
   "metadata": {
    "deletable": false,
    "editable": false
   },
   "outputs": [
    {
     "data": {
      "text/html": [
       "<p><strong><pre style='display: inline;'>q1bi</pre></strong> passed! ✨</p>"
      ],
      "text/plain": [
       "q1bi results: All test cases passed!"
      ]
     },
     "execution_count": 10,
     "metadata": {},
     "output_type": "execute_result"
    }
   ],
   "source": [
    "grader.check(\"q1bi\")"
   ]
  },
  {
   "cell_type": "markdown",
   "metadata": {
    "deletable": false,
    "editable": false
   },
   "source": [
    "\n",
    "**Part II:** In this sampling scheme, which of the following is the sampling frame? Assign your answer choice to `q2bii` (e.g., `'A'`, `'B'`, etc.).\n",
    "\n",
    "A. UC Berkeley students<br/>\n",
    "B. All students enrolled in Data 100 across all semesters (Fall 2023 and previous)</br>\n",
    "C. All students enrolled in Data 100 for this semester (Fall 2023)<br/>\n",
    "D. All students enrolled in Shiny's discussion section<br/>\n",
    "E. All students who fill out Shiny's pre-contest survey"
   ]
  },
  {
   "cell_type": "code",
   "execution_count": 11,
   "metadata": {
    "tags": []
   },
   "outputs": [],
   "source": [
    "q1bii = 'D'"
   ]
  },
  {
   "cell_type": "code",
   "execution_count": 12,
   "metadata": {
    "deletable": false,
    "editable": false
   },
   "outputs": [
    {
     "data": {
      "text/html": [
       "<p><strong><pre style='display: inline;'>q1bii</pre></strong> passed! 🙌</p>"
      ],
      "text/plain": [
       "q1bii results: All test cases passed!"
      ]
     },
     "execution_count": 12,
     "metadata": {},
     "output_type": "execute_result"
    }
   ],
   "source": [
    "grader.check(\"q1bii\")"
   ]
  },
  {
   "cell_type": "markdown",
   "metadata": {
    "deletable": false,
    "editable": false
   },
   "source": [
    "\n",
    "**Part III:** Which of the following is the sample? Assign your answer choice to `q2biii` (e.g., `'A'`, `'B'`, etc.).\n",
    "\n",
    "A. UC Berkeley students<br/>\n",
    "B. All students enrolled in Data 100 across all semesters (Fall 2023 and previous)</br>\n",
    "C. All students enrolled in Data 100 for this semester (Fall 2023)<br/>\n",
    "D. All students enrolled in Shiny's discussion section<br/>\n",
    "E. All students who fill out Shiny's pre-contest survey"
   ]
  },
  {
   "cell_type": "code",
   "execution_count": 13,
   "metadata": {
    "tags": []
   },
   "outputs": [],
   "source": [
    "q1biii = 'E'"
   ]
  },
  {
   "cell_type": "code",
   "execution_count": 14,
   "metadata": {
    "deletable": false,
    "editable": false
   },
   "outputs": [
    {
     "data": {
      "text/html": [
       "<p><strong><pre style='display: inline;'>q1biii</pre></strong> passed! 🎉</p>"
      ],
      "text/plain": [
       "q1biii results: All test cases passed!"
      ]
     },
     "execution_count": 14,
     "metadata": {},
     "output_type": "execute_result"
    }
   ],
   "source": [
    "grader.check(\"q1biii\")"
   ]
  },
  {
   "cell_type": "markdown",
   "metadata": {
    "deletable": false,
    "editable": false
   },
   "source": [
    "**Part IV:** Which of the following best characterizes the sample? Assign your answer choice to `q1biv`  (e.g., `'A'`, `'B'`, etc.)..\n",
    "\n",
    "A. Convenience Sample<br/>\n",
    "B. Simple Random Sample<br/>\n",
    "C. Probability Sample"
   ]
  },
  {
   "cell_type": "code",
   "execution_count": 15,
   "metadata": {
    "tags": []
   },
   "outputs": [],
   "source": [
    "q1biv = 'A'"
   ]
  },
  {
   "cell_type": "code",
   "execution_count": 16,
   "metadata": {
    "deletable": false,
    "editable": false
   },
   "outputs": [
    {
     "data": {
      "text/html": [
       "<p><strong><pre style='display: inline;'>q1biv</pre></strong> passed! 💯</p>"
      ],
      "text/plain": [
       "q1biv results: All test cases passed!"
      ]
     },
     "execution_count": 16,
     "metadata": {},
     "output_type": "execute_result"
    }
   ],
   "source": [
    "grader.check(\"q1biv\")"
   ]
  },
  {
   "cell_type": "markdown",
   "metadata": {
    "deletable": false,
    "editable": false,
    "tags": []
   },
   "source": [
    "<br>\n",
    "\n",
    "<hr style=\"border: 1px solid #fdb515;\" />\n",
    "\n",
    "\n",
    "## Question 2\n",
    "Shiny was able to sample 50 students in her section; the results are as follows:\n",
    "\n",
    "Pet | Vote Share\n",
    "--- | ---\n",
    "Appa | 2%\n",
    "Pishi | 20%\n",
    "Mimi | 78%\n",
    "\n",
    "Based on this result, she predicts that her dog Mimi will win the contest.\n",
    "\n",
    "Fast-forward to the end of the semester, when the contest has actually taken place. Assume that after tallying every student's votes, **the true popularity of each pet** is: \n",
    "\n",
    "Dog | Vote Share\n",
    "--- | ---\n",
    "Appa | 10%\n",
    "Pishi | 82%\n",
    "Mimi | 8%\n",
    "\n",
    "The true winner was actually Pishi! Shiny was devastated: what went wrong?\n",
    "\n",
    "---\n",
    "\n",
    "### Question 2a\n",
    "\n",
    "Pishi ultimately wins the Cutest Pet Contest, but from Shiny's results, it was predicted that Mimi would win. Perhaps there was some underlying issue with Shiny's sampling method.\n",
    "\n",
    "Probability samples can help us quantify sampling bias and chance error. Put briefly, if we assume that a sample distribution was selected at random from a known population, then we can quantify how likely that sample is to have arisen due to random chance (**chance error**). If the difference in sample and population distributions is too great, then we suspect that the given sample has **bias** in how it was selected from the population.\n",
    "\n",
    "Write one line of code that runs 1000 independent simulations, where each simulation finds the proportion of voters who voted for **Pishi** in a sample of size 50, selected uniformly at random from the **true population**. You may assume that the true population is large enough such that the sample is a random sample with replacement. The output `samples` should be an array with 1000 elements, each of which is the proportion of **Pishi** votes in that simulated sample.\n",
    "\n",
    "**Hint**: \n",
    "\n",
    "* Use `np.random.multinomial` ([documentation](https://numpy.org/doc/stable/reference/random/generated/numpy.random.multinomial.html)).\n",
    "* Use `array[:, i]` to select the i-th column of a 2D `NumPy` array\n",
    "* Feel free to print out `samples` or `samples.shape` to check the output!"
   ]
  },
  {
   "cell_type": "code",
   "execution_count": 19,
   "metadata": {},
   "outputs": [],
   "source": []
  },
  {
   "cell_type": "code",
   "execution_count": 27,
   "metadata": {
    "tags": []
   },
   "outputs": [
    {
     "data": {
      "text/plain": [
       "array([0.74, 0.8 , 0.78, 0.8 , 0.8 ])"
      ]
     },
     "execution_count": 27,
     "metadata": {},
     "output_type": "execute_result"
    }
   ],
   "source": [
    "\n",
    "samples = np.random.multinomial(50, np.array([0.1, 0.82, 0.08]), size = 1000)[:, 1]/50\n",
    "samples[:5]"
   ]
  },
  {
   "cell_type": "code",
   "execution_count": 28,
   "metadata": {
    "deletable": false,
    "editable": false
   },
   "outputs": [
    {
     "data": {
      "text/html": [
       "<p><strong><pre style='display: inline;'>q2a</pre></strong> passed! ✨</p>"
      ],
      "text/plain": [
       "q2a results: All test cases passed!"
      ]
     },
     "execution_count": 28,
     "metadata": {},
     "output_type": "execute_result"
    }
   ],
   "source": [
    "grader.check(\"q2a\")"
   ]
  },
  {
   "cell_type": "markdown",
   "metadata": {
    "deletable": false,
    "editable": false,
    "tags": []
   },
   "source": [
    "<!-- BEGIN QUESTION -->\n",
    "\n",
    "<br>\n",
    "\n",
    "---\n",
    "\n",
    "### Question 2b\n",
    "\n",
    "Create a plot using any `seaborn` and/or `matplotlib.pyplot` functions of your choice to visualize `samples`, which is the simulated distribution of Pishi votes using a sample of size 50. Include descriptive titles and labels. An example is included below. The total area under the plot must be normalized to 1. Your plot may not match exactly ours due to randomness of the data generating process in `np.random.multinomial`.\n",
    "\n",
    "<img src='images/q2b.png' width=\"500px\" />\n",
    "\n",
    "\n",
    "**Hint**: use `plt.xlim(left, right)` [(documentation)](https://matplotlib.org/stable/api/_as_gen/matplotlib.pyplot.xlim.html) to specify the left and right limits of the x-axis."
   ]
  },
  {
   "cell_type": "code",
   "execution_count": 65,
   "metadata": {
    "tags": []
   },
   "outputs": [
    {
     "data": {
      "image/png": "[encoded data removed]",
      "text/plain": [
       "<Figure size 640x480 with 1 Axes>"
      ]
     },
     "metadata": {},
     "output_type": "display_data"
    }
   ],
   "source": [
    "plt.hist(samples, density = True, edgecolor = 'white', bins = np.arange(0, 1.1, 0.02))\n",
    "plt.xlim(0.0, 1.0)\n",
    "plt.ylim(0,8)\n",
    "plt.xlabel('proportion of Pishi voters')\n",
    "plt.ylabel('density')\n",
    "plt.title('Distribution of samples Pishi vote')\n",
    "plt.show()"
   ]
  },
  {
   "cell_type": "markdown",
   "metadata": {
    "deletable": false,
    "editable": false,
    "tags": []
   },
   "source": [
    "<!-- END QUESTION -->\n",
    "\n",
    "<!-- BEGIN QUESTION -->\n",
    "\n",
    "<br>\n",
    "\n",
    "---\n",
    "\n",
    "### Question 2c\n",
    "\n",
    "According to Shiny's 50-person sample, 20\\% of her discussion section reported that they would vote for Pishi in the end-of-semester contest.\n",
    "\n",
    "In the cell below, create a plot using any `seaborn` and/or `matplotlib.pyplot` functions of your choice to visualize Shiny's sample statistic superimposed on the simulated sample distribution you plotted in the previous part. In other words, include\n",
    "- a vertical line that passes through 20\\%, \n",
    "- a vertical line that passes through the mean of the simulated sample distribution, and \n",
    "- the simulated sample distribution itself. \n",
    "\n",
    "You should choose contrasting colors and include a descriptive title, labels, and a legend if needed. An example is included below.\n",
    "\n",
    "<img src='images/q2c.png' width=\"500px\" />"
   ]
  },
  {
   "cell_type": "code",
   "execution_count": 49,
   "metadata": {},
   "outputs": [
    {
     "data": {
      "text/plain": [
       "0.82152"
      ]
     },
     "execution_count": 49,
     "metadata": {},
     "output_type": "execute_result"
    }
   ],
   "source": [
    "mean_sample_dis = np.mean(samples)\n",
    "mean_sample_dis"
   ]
  },
  {
   "cell_type": "code",
   "execution_count": 51,
   "metadata": {
    "tags": []
   },
   "outputs": [
    {
     "data": {
      "image/png": "[encoded data removed]",
      "text/plain": [
       "<Figure size 640x480 with 1 Axes>"
      ]
     },
     "metadata": {},
     "output_type": "display_data"
    }
   ],
   "source": [
    "plt.hist(samples, density = True, edgecolor = 'white')\n",
    "plt.xlim(0.0, 1.0)\n",
    "plt.ylim(0,8)\n",
    "plt.xlabel('proportion of Pishi voters')\n",
    "plt.ylabel('density')\n",
    "plt.title('Distribution of samples Pishi vote')\n",
    "plt.axvline(0.2, color=\"orange\", lw=1)\n",
    "plt.axvline(np.mean(samples), color=\"navy\", lw=1);"
   ]
  },
  {
   "cell_type": "markdown",
   "metadata": {
    "deletable": false,
    "editable": false
   },
   "source": [
    "<!-- END QUESTION -->\n",
    "\n",
    "<!-- BEGIN QUESTION -->\n",
    "\n",
    "<br>\n",
    "\n",
    "---\n",
    "\n",
    "### Question 2d\n",
    "\n",
    "Based on your analysis above, could Shiny's result have arisen due to chance alone? If not, what could be a potential source of bias?"
   ]
  },
  {
   "cell_type": "markdown",
   "metadata": {},
   "source": [
    "_Type your answer here, replacing this text._"
   ]
  },
  {
   "cell_type": "markdown",
   "metadata": {
    "deletable": false,
    "editable": false
   },
   "source": [
    "<!-- END QUESTION -->\n",
    "\n",
    "<br/><br/>\n",
    "<hr style=\"border: 5px solid #003262;\" />\n",
    "<hr style=\"border: 1px solid #fdb515;\" />\n",
    "\n",
    "## Congratulations! You have finished Homework 5A!"
   ]
  },
  {
   "cell_type": "markdown",
   "metadata": {
    "editable": true,
    "slideshow": {
     "slide_type": ""
    },
    "tags": []
   },
   "source": [
    "### Submission Instructions\n",
    "\n",
    "Below, you will see two cells.\n",
    "* Running the first cell will automatically generate a PDF of your answers to all questions that need to be manually graded.\n",
    "* Running the second cell will automatically generate a zip with your autograded answers.\n",
    "\n",
    "**You are responsible for combining this resulting Homework 5A PDF with your answers to Homework 5B**, then submitting **both** the coding and written portions of Homework 5 to their respective Gradescope portals:\n",
    "* **Homework 05 Coding**: Submit your Jupyter notebook zip file for Homework 5A,\n",
    "which can be generated and downloaded from DataHub by using the `grader.export()`\n",
    "cell provided below.\n",
    "* **Homework 05 Written**: Submit a single PDF to Gradescope that contains both\n",
    "(1) your answers to all manually graded questions from this Homework 5A Jupyter\n",
    "Notebook, and (2) your answers to all questions in Homework 5B.\n",
    "\n",
    "To receive credit on this assignment, **you must submit both your coding and written\n",
    "portions to their respective Gradescope portals.** Your written submission (a single\n",
    "PDF) can be generated as follows:\n",
    "\n",
    "1. Access your answers to manually graded Homework 5A  questions in one of three ways:\n",
    "      * <b>*Automatically create PDF (recommended)*</b>: Run the first cell below and download the generated PDF. This function will extract your response to the manually graded questions and put them on a separate page. This process may fail if your answer is not properly formatted; if this is the case, check out common errors and solution described on Ed or follow either of the two ways described below.\n",
    "      * *Manually download PDF*: If there are issues with automatically generating the PDF in the first cell, you can try downloading the notebook as a PDF by clicking on `File -> Save and Export Notebook As... -> PDF`. If you choose to go this route, you must take special care to ensure all appropriate pages are chosen for each question on Gradescope.\n",
    "      * *Take screenshots*: If that doesn't work either, you can take screenshots of your answers (and your code if present) to manually graded questions and include them as images in a PDF. The manually graded questions are listed at the top of the Homework 1A notebook.\n",
    "    \n",
    "1. Answer the Homework 5B written questions.\n",
    "\n",
    "1. Combine these two sets of answers together into the same PDF, and submit to the appropriate Gradescope written portal. You can use PDF merging tools, e.g., [Adobe Reader](https://get.adobe.com/reader/), [Smallpdf](https://smallpdf.com/merge-pdf) or [Apple Preview](https://support.apple.com/en-us/HT202945).\n",
    "\n",
    "1. **Important**: When submitting on Gradescope, you **must tag pages to each question correctly** (it prompts you to do this after submitting your work). This significantly streamlines the grading process for our readers. Failure to do this may result in a score of 0 for untagged questions.\n",
    "\n",
    "**You are responsible for ensuring your submission follows our requirements. We will not be granting regrade requests nor extensions to submissions that don't follow instructions.** If you encounter any difficulties with submission, please don't hesitate to reach out to staff prior to the deadline."
   ]
  },
  {
   "cell_type": "markdown",
   "metadata": {
    "deletable": false,
    "editable": false
   },
   "source": [
    "## Submission\n",
    "\n",
    "Make sure you have run all cells in your notebook in order before running the cell below, so that all images/graphs appear in the output. The cell below will generate a zip file for you to submit. **Please save before exporting!**\n",
    "\n",
    "After you have run the cell below and generated the zip file, you can open the PDF <a href='hw05A.pdf' download>here</a>."
   ]
  },
  {
   "cell_type": "code",
   "execution_count": null,
   "metadata": {
    "deletable": false,
    "editable": false
   },
   "outputs": [],
   "source": [
    "# Save your notebook first, then run this cell to export your submission.\n",
    "grader.export(run_tests=True)"
   ]
  },
  {
   "cell_type": "markdown",
   "metadata": {},
   "source": [
    " "
   ]
  }
 ],
 "metadata": {
  "kernelspec": {
   "display_name": "Python 3 (ipykernel)",
   "language": "python",
   "name": "python3"
  },
  "language_info": {
   "codemirror_mode": {
    "name": "ipython",
    "version": 3
   },
   "file_extension": ".py",
   "mimetype": "text/x-python",
   "name": "python",
   "nbconvert_exporter": "python",
   "pygments_lexer": "ipython3",
   "version": "3.11.0"
  },
  "otter": {
   "OK_FORMAT": true,
   "tests": {
    "q1ai": {
     "name": "q1ai",
     "points": 1,
     "suites": [
      {
       "cases": [
        {
         "code": ">>> assert q1ai.upper() in ['A', 'B', 'C', 'D']\n",
         "hidden": false,
         "locked": false,
         "points": 0
        }
       ],
       "scored": true,
       "setup": "",
       "teardown": "",
       "type": "doctest"
      }
     ]
    },
    "q1aii": {
     "name": "q1aii",
     "points": 1,
     "suites": [
      {
       "cases": [
        {
         "code": ">>> assert q1aii.upper() in ['A', 'B', 'C', 'D']\n",
         "hidden": false,
         "locked": false,
         "points": 0
        }
       ],
       "scored": true,
       "setup": "",
       "teardown": "",
       "type": "doctest"
      }
     ]
    },
    "q1aiii": {
     "name": "q1aiii",
     "points": 1,
     "suites": [
      {
       "cases": [
        {
         "code": ">>> assert q1aiii.upper() in ['A', 'B', 'C', 'D']\n",
         "hidden": false,
         "locked": false,
         "points": 0
        }
       ],
       "scored": true,
       "setup": "",
       "teardown": "",
       "type": "doctest"
      }
     ]
    },
    "q1bi": {
     "name": "q1bi",
     "points": 1,
     "suites": [
      {
       "cases": [
        {
         "code": ">>> assert q1bi.upper() in ['A', 'B', 'C', 'D', 'E']\n",
         "hidden": false,
         "locked": false,
         "points": 0
        }
       ],
       "scored": true,
       "setup": "",
       "teardown": "",
       "type": "doctest"
      }
     ]
    },
    "q1bii": {
     "name": "q1bii",
     "points": 1,
     "suites": [
      {
       "cases": [
        {
         "code": ">>> assert q1bii.upper() in ['A', 'B', 'C', 'D', 'E']\n",
         "hidden": false,
         "locked": false,
         "points": 0
        }
       ],
       "scored": true,
       "setup": "",
       "teardown": "",
       "type": "doctest"
      }
     ]
    },
    "q1biii": {
     "name": "q1biii",
     "points": 1,
     "suites": [
      {
       "cases": [
        {
         "code": ">>> assert q1biii.upper() in ['A', 'B', 'C', 'D', 'E']\n",
         "hidden": false,
         "locked": false,
         "points": 0
        }
       ],
       "scored": true,
       "setup": "",
       "teardown": "",
       "type": "doctest"
      }
     ]
    },
    "q1biv": {
     "name": "q1biv",
     "points": 1,
     "suites": [
      {
       "cases": [
        {
         "code": ">>> assert q1biv.upper() in ['A', 'B', 'C', 'D', 'E']\n",
         "hidden": false,
         "locked": false,
         "points": 0
        }
       ],
       "scored": true,
       "setup": "",
       "teardown": "",
       "type": "doctest"
      }
     ]
    },
    "q2a": {
     "name": "q2a",
     "points": 2,
     "suites": [
      {
       "cases": [
        {
         "code": ">>> assert all(samples <= 1)\n>>> assert all(samples >= 0)\n>>> assert (samples.shape == (1000,))\n",
         "hidden": false,
         "locked": false,
         "points": 1
        }
       ],
       "scored": true,
       "setup": "",
       "teardown": "",
       "type": "doctest"
      }
     ]
    }
   }
  }
 },
 "nbformat": 4,
 "nbformat_minor": 4
}
